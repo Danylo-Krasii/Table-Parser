{
 "cells": [
  {
   "cell_type": "code",
   "execution_count": 2,
   "metadata": {},
   "outputs": [
    {
     "name": "stderr",
     "output_type": "stream",
     "text": [
      "CUDA not available - defaulting to CPU. Note: This module is much faster with a GPU.\n"
     ]
    },
    {
     "name": "stdout",
     "output_type": "stream",
     "text": [
      "Saving to: .\\Data\\Sec_A.xlsx\n",
      "Saving to: .\\Data\\Sec_B.xlsx\n"
     ]
    }
   ],
   "source": [
    "from tab_parser import tabParser\n",
    "from os import listdir\n",
    "from os.path import join\n",
    "import cv2\n",
    "\n",
    "files_path = '.\\Data'\n",
    "save_to_path = '.\\Data'\n",
    "\n",
    "onlyfiles = [f for f in listdir(files_path) if ('Sec_' in f) and ('.xlsx' not in f)]\n",
    "parser = tabParser()\n",
    "\n",
    "for file in onlyfiles:\n",
    "    img = cv2.imread(join(files_path, file), 0)\n",
    "    df = parser.parse(img, join(save_to_path, file.replace('.jpg', '.xlsx')))"
   ]
  }
 ],
 "metadata": {
  "interpreter": {
   "hash": "569f3b4c6e9c098baa7a8326af50d7044e8836b9c959986958773a168d864561"
  },
  "kernelspec": {
   "display_name": "Python 3.6.13 ('env36')",
   "language": "python",
   "name": "python3"
  },
  "language_info": {
   "codemirror_mode": {
    "name": "ipython",
    "version": 3
   },
   "file_extension": ".py",
   "mimetype": "text/x-python",
   "name": "python",
   "nbconvert_exporter": "python",
   "pygments_lexer": "ipython3",
   "version": "3.6.13"
  },
  "orig_nbformat": 4
 },
 "nbformat": 4,
 "nbformat_minor": 2
}
